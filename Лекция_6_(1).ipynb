{
  "cells": [
    {
      "cell_type": "markdown",
      "metadata": {
        "id": "view-in-github",
        "colab_type": "text"
      },
      "source": [
        "<a href=\"https://colab.research.google.com/github/zh19980811/-/blob/main/%D0%9B%D0%B5%D0%BA%D1%86%D0%B8%D1%8F_6_(1).ipynb\" target=\"_parent\"><img src=\"https://colab.research.google.com/assets/colab-badge.svg\" alt=\"Open In Colab\"/></a>"
      ]
    },
    {
      "cell_type": "markdown",
      "metadata": {
        "id": "mOwJatKtDPzL"
      },
      "source": [
        "# Архитектура систем классификации"
      ]
    },
    {
      "cell_type": "markdown",
      "metadata": {
        "id": "8Q-45Pf9DpHP"
      },
      "source": [
        "![image.png](data:image/png;base64,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)"
      ]
    },
    {
      "cell_type": "code",
      "execution_count": null,
      "metadata": {
        "id": "lzY8PmsvI6AN"
      },
      "outputs": [],
      "source": [
        "import numpy as np\n"
      ]
    },
    {
      "cell_type": "markdown",
      "metadata": {
        "id": "mGzRu5rLI6kT"
      },
      "source": [
        "## Мешок слов (Bag of Words, BoW)"
      ]
    },
    {
      "cell_type": "code",
      "execution_count": null,
      "metadata": {
        "id": "RTgfYozKJVT0"
      },
      "outputs": [],
      "source": [
        "from sklearn.feature_extraction.text import CountVectorizer"
      ]
    },
    {
      "cell_type": "code",
      "execution_count": null,
      "metadata": {
        "id": "aivWwtQzDRuA"
      },
      "outputs": [],
      "source": [
        "#корпус предобработанных текстов\n",
        "Db = ['Вася любит кот',\n",
        "      'Кот жить улица',\n",
        "      'Кот любить рыба']"
      ]
    },
    {
      "cell_type": "code",
      "execution_count": null,
      "metadata": {
        "id": "LEX05o-0Jzq5"
      },
      "outputs": [],
      "source": [
        "#векторизуем сразу весь корпус\n",
        "vectorizer = CountVectorizer()\n",
        "X = vectorizer.fit_transform(Db).toarray()\n",
        "X"
      ]
    },
    {
      "cell_type": "code",
      "execution_count": null,
      "metadata": {
        "id": "tw-Wihwe0BMf"
      },
      "outputs": [],
      "source": [
        "#в предобученный векторизатор подаем новый текст\n",
        "vectorizer.transform(['кот','собака']).toarray()"
      ]
    },
    {
      "cell_type": "markdown",
      "metadata": {
        "id": "q15LHy18KQXs"
      },
      "source": [
        "## TF-IDF"
      ]
    },
    {
      "cell_type": "code",
      "execution_count": null,
      "metadata": {
        "id": "BsW2qRSNKVdS"
      },
      "outputs": [],
      "source": [
        "from sklearn.feature_extraction.text import TfidfVectorizer"
      ]
    },
    {
      "cell_type": "code",
      "execution_count": null,
      "metadata": {
        "id": "47lPDfSzKVdS"
      },
      "outputs": [],
      "source": [
        "Db = ['Вася любит кот',\n",
        "      'Кот жить улица',\n",
        "      'Кот любить рыба']"
      ]
    },
    {
      "cell_type": "code",
      "execution_count": null,
      "metadata": {
        "id": "XHxMD1GDKVdS"
      },
      "outputs": [],
      "source": [
        "vectorizer = TfidfVectorizer()\n",
        "X = vectorizer.fit_transform(Db).toarray()\n",
        "X"
      ]
    },
    {
      "cell_type": "markdown",
      "metadata": {
        "id": "F3W02uLopcDC"
      },
      "source": [
        "## Word2Vec"
      ]
    },
    {
      "cell_type": "code",
      "execution_count": null,
      "metadata": {
        "id": "oE-YJw52KAlk"
      },
      "outputs": [],
      "source": [
        "import gensim.downloader as api"
      ]
    },
    {
      "cell_type": "markdown",
      "metadata": {
        "id": "4uzDVMv3p2vf"
      },
      "source": [
        "word2vec-ruscorpora-300 - word2vec обученный на Russian National Corpus (~ 250M слов), SkipGram с окном 10"
      ]
    },
    {
      "cell_type": "markdown",
      "metadata": {
        "id": "V0hCEC8tp7Ce"
      },
      "source": [
        "В модели \"word2vec-ruscorpora-300\" после слова указывается часть речи: NOUN (существительное), ADJ (прилагательное) и так далее."
      ]
    },
    {
      "cell_type": "markdown",
      "metadata": {
        "id": "XTEJ_wWop8ER"
      },
      "source": [
        "[Другие предобученные эмбеддинги gensim](https://radimrehurek.com/gensim/models/word2vec.html#pretrained-models)"
      ]
    },
    {
      "cell_type": "code",
      "execution_count": null,
      "metadata": {
        "id": "IYg_7CnKpwul"
      },
      "outputs": [],
      "source": [
        "#загрузка предобученную модель\n",
        "wv = api.load('word2vec-ruscorpora-300')"
      ]
    },
    {
      "cell_type": "code",
      "execution_count": null,
      "metadata": {
        "id": "l2itkzmwrsac"
      },
      "outputs": [],
      "source": [
        "#список слов в данной модели\n",
        "list(wv.index_to_key)[:10]"
      ]
    },
    {
      "cell_type": "code",
      "execution_count": null,
      "metadata": {
        "id": "Cqpe8Nz4t4AU"
      },
      "outputs": [],
      "source": [
        "len(list(wv.index_to_key))"
      ]
    },
    {
      "cell_type": "code",
      "execution_count": null,
      "metadata": {
        "id": "Ic4Ol89Ysxl4"
      },
      "outputs": [],
      "source": [
        "#получение вектора w2v по слову\n",
        "#wv['человек_NOUN']\n",
        "wv['человек_NOUN'].shape"
      ]
    },
    {
      "cell_type": "code",
      "execution_count": null,
      "metadata": {
        "id": "_MnladTqs5kr"
      },
      "outputs": [],
      "source": [
        "#создание списка слов без частей речи\n",
        "vocab = []\n",
        "for w in list(wv.index_to_key):\n",
        "  vocab.append(w.split('_')[0])"
      ]
    },
    {
      "cell_type": "code",
      "execution_count": null,
      "metadata": {
        "id": "9agfYhckuPsu"
      },
      "outputs": [],
      "source": [
        "vocab[:10]"
      ]
    },
    {
      "cell_type": "code",
      "execution_count": null,
      "metadata": {
        "id": "1fMbHs2muWho"
      },
      "outputs": [],
      "source": [
        "#вектора каждого слова из предложения\n",
        "preprocessing_text = ['кот', 'любить', 'тыгыдыкать']\n",
        "vectors_word = []\n",
        "for i in preprocessing_text:\n",
        "  if i in vocab:\n",
        "    #vocab.index(i) - находит идекс в vocab\n",
        "    #list(wv.index_to_key)[vocab.index(i)] - выводит слово с его частью речи\n",
        "    #wv[list(wv.index_to_key)[vocab.index(i)]] - получаем вектор\n",
        "    vectors_word.append(wv[list(wv.index_to_key)[vocab.index(i)]])\n",
        "  else:\n",
        "    vectors_word.append(np.zeros(300))\n",
        "vector_text = np.mean(vectors_word, axis = 0)"
      ]
    },
    {
      "cell_type": "code",
      "execution_count": null,
      "metadata": {
        "id": "wpPEX3WDxp0Q"
      },
      "outputs": [],
      "source": [
        "print(vectors_word)"
      ]
    },
    {
      "cell_type": "code",
      "execution_count": null,
      "metadata": {
        "id": "fgqQngwRxJR0"
      },
      "outputs": [],
      "source": [
        "print(vector_text)"
      ]
    },
    {
      "cell_type": "code",
      "execution_count": null,
      "metadata": {
        "id": "vvDhWDv_zO1X"
      },
      "outputs": [],
      "source": [
        "#размерность вектора для одного текста (любое кол-во слов) будет 300\n",
        "vector_text.shape"
      ]
    },
    {
      "cell_type": "code",
      "execution_count": null,
      "metadata": {
        "id": "Bf7ihEg_zXy2"
      },
      "outputs": [],
      "source": [
        "from google.colab import drive\n",
        "import pandas as pd\n",
        "drive.mount('/content/drive')\n"
      ]
    },
    {
      "cell_type": "code",
      "execution_count": null,
      "metadata": {
        "id": "8n2Xh5acUh8p"
      },
      "outputs": [],
      "source": [
        "file_path = '/content/drive/My Drive/5/12.csv'\n",
        "df = pd.read_csv(file_path)"
      ]
    },
    {
      "cell_type": "code",
      "source": [
        "import pandas as pd\n",
        "num_rows = int(len(df) * 0.2)\n",
        "df = df.iloc[:num_rows]\n",
        "print(new_df)\n"
      ],
      "metadata": {
        "id": "EDZVaD8lb2E0"
      },
      "execution_count": null,
      "outputs": []
    },
    {
      "cell_type": "code",
      "execution_count": null,
      "metadata": {
        "id": "6kqH6beqUxke"
      },
      "outputs": [],
      "source": [
        "from sklearn.feature_extraction.text import CountVectorizer, TfidfVectorizer\n",
        "from gensim.models import Word2Vec\n",
        "import pandas as pd\n",
        "import numpy as np\n",
        "\n",
        "def process_batch(texts, bow_vectorizer, tfidf_vectorizer, word2vec_model):\n",
        "    bow_vectors = bow_vectorizer.transform(texts)\n",
        "    tfidf_vectors = tfidf_vectorizer.transform(texts)\n",
        "\n",
        "\n",
        "    tokenized_texts = [text.split() for text in texts]\n",
        "    word2vec_vectors = np.array([\n",
        "        np.mean([word2vec_model.wv[word] for word in tokens if word in word2vec_model.wv.key_to_index], axis=0)\n",
        "        if len(tokens) > 0 else np.zeros(100)\n",
        "        for tokens in tokenized_texts\n",
        "    ])\n",
        "\n",
        "\n",
        "    bow_df = pd.DataFrame(bow_vectors.toarray(), columns=[f'bow_{i}' for i in range(bow_vectors.shape[1])])\n",
        "    tfidf_df = pd.DataFrame(tfidf_vectors.toarray(), columns=[f'tfidf_{i}' for i in range(tfidf_vectors.shape[1])])\n",
        "    word2vec_df = pd.DataFrame(word2vec_vectors, columns=[f'w2v_{i}' for i in range(100)])\n",
        "\n",
        "    return pd.concat([bow_df, tfidf_df, word2vec_df], axis=1)\n",
        "\n",
        "df['text'] = df['text'].fillna('')\n",
        "\n",
        "bow_vectorizer = CountVectorizer()\n",
        "tfidf_vectorizer = TfidfVectorizer()\n",
        "bow_vectorizer.fit(df['text'])\n",
        "tfidf_vectorizer.fit(df['text'])\n",
        "\n",
        "tokenized_text = df['text'].apply(lambda x: x.split())\n",
        "word2vec_model = Word2Vec(sentences=tokenized_text, vector_size=100, window=5, min_count=1, workers=4)\n",
        "\n",
        "batch_size = 10\n",
        "results = []\n",
        "for batch in np.array_split(df, len(df) // batch_size + 1):\n",
        "    batch_result = process_batch(batch['text'], bow_vectorizer, tfidf_vectorizer, word2vec_model)\n",
        "    results.append(batch_result)\n",
        "\n",
        "vector_df = pd.concat(results, ignore_index=True)\n",
        "final_df = pd.concat([df.reset_index(drop=True), vector_df], axis=1)\n",
        "\n"
      ]
    },
    {
      "cell_type": "code",
      "source": [
        "df.to_csv('complete_text_vectors.csv', index=False)\n",
        "\n",
        "from google.colab import files\n",
        "\n",
        "files.download('complete_text_vectors.csv')"
      ],
      "metadata": {
        "id": "xGxo5UN58RIJ"
      },
      "execution_count": null,
      "outputs": []
    }
  ],
  "metadata": {
    "colab": {
      "provenance": [],
      "private_outputs": true,
      "cell_execution_strategy": "setup",
      "gpuType": "T4",
      "include_colab_link": true
    },
    "kernelspec": {
      "display_name": "Python 3",
      "name": "python3"
    },
    "language_info": {
      "name": "python"
    },
    "accelerator": "GPU"
  },
  "nbformat": 4,
  "nbformat_minor": 0
}